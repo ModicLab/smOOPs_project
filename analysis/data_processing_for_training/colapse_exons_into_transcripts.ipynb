{
 "cells": [
  {
   "cell_type": "code",
   "execution_count": 2,
   "metadata": {},
   "outputs": [
    {
     "name": "stderr",
     "output_type": "stream",
     "text": [
      "2024-10-28 13:52:41.443507: I tensorflow/core/platform/cpu_feature_guard.cc:182] This TensorFlow binary is optimized to use available CPU instructions in performance-critical operations.\n",
      "To enable the following instructions: AVX2 FMA, in other operations, rebuild TensorFlow with the appropriate compiler flags.\n",
      "2024-10-28 13:52:51.837014: W tensorflow/compiler/tf2tensorrt/utils/py_utils.cc:38] TF-TRT Warning: Could not find TensorRT\n"
     ]
    }
   ],
   "source": [
    "import pandas as pd\n",
    "import tensorflow as tf\n",
    "import matplotlib.pyplot as plt\n",
    "import numpy as np"
   ]
  },
  {
   "cell_type": "code",
   "execution_count": 7,
   "metadata": {},
   "outputs": [],
   "source": [
    "naive_transcripts = pd.read_csv('Data/machine_learning_input_prep/all_transcripts_with_fasta_clip_m6a_paris_intra_paris_inter_postar3.bed', sep='\\t')\n",
    "naive_transcripts['smoops_common'] = ~naive_transcripts['control_common']"
   ]
  },
  {
   "cell_type": "code",
   "execution_count": 3,
   "metadata": {},
   "outputs": [
    {
     "name": "stderr",
     "output_type": "stream",
     "text": [
      "/tmp/ipykernel_914597/2644908499.py:28: DeprecationWarning: DataFrameGroupBy.apply operated on the grouping columns. This behavior is deprecated, and in a future version of pandas the grouping columns will be excluded from the operation. Either pass `include_groups=False` to exclude the groupings or explicitly select the grouping columns after groupby to silence this warning.\n",
      "  merged_naive_transcripts = naive_transcripts.groupby('transcript_id').apply(process_group).reset_index(drop=True)\n"
     ]
    }
   ],
   "source": [
    "naive_transcripts['start'] = pd.to_numeric(naive_transcripts['start'])\n",
    "naive_transcripts['end'] = pd.to_numeric(naive_transcripts['end'])\n",
    "\n",
    "sequence_index = naive_transcripts.columns.get_loc(\"sequence\")\n",
    "\n",
    "def process_group(group):\n",
    "    if group['strand'].iloc[0] == '+':\n",
    "        sorted_group = group.sort_values(by='start')\n",
    "    else:\n",
    "        sorted_group = group.sort_values(by='end', ascending=False)\n",
    "    \n",
    "    concatenated_sequence = ''.join(sorted_group['sequence'])\n",
    "    other_columns = sorted_group.iloc[:, sequence_index + 1:].apply(lambda x: ','.join(x.dropna().astype(str)), axis=0)\n",
    "\n",
    "    first_columns = sorted_group.iloc[0][[*group.columns[3:sequence_index]]]\n",
    "\n",
    "    return pd.Series([*first_columns.values, concatenated_sequence, *other_columns.values])\n",
    "\n",
    "merged_naive_transcripts = naive_transcripts.groupby('transcript_id').apply(process_group).reset_index(drop=True)\n",
    "merged_naive_transcripts.columns = [naive_transcripts.columns[3:]]\n",
    "merged_naive_transcripts.columns = merged_naive_transcripts.columns.get_level_values(0)"
   ]
  },
  {
   "cell_type": "code",
   "execution_count": 8,
   "metadata": {},
   "outputs": [
    {
     "data": {
      "text/plain": [
       "16716"
      ]
     },
     "execution_count": 8,
     "metadata": {},
     "output_type": "execute_result"
    }
   ],
   "source": [
    "merged_naive_transcripts[\"sequence_length\"] = merged_naive_transcripts[\"sequence\"].str.len()\n",
    "merged_naive_transcripts = merged_naive_transcripts[merged_naive_transcripts[\"sequence_length\"] < 20000]\n",
    "merged_naive_transcripts = merged_naive_transcripts.drop(columns=[\"sequence_length\"])\n",
    "print(merged_naive_transcripts[\"sequence_length\"].max())"
   ]
  },
  {
   "cell_type": "code",
   "execution_count": 9,
   "metadata": {},
   "outputs": [],
   "source": [
    "merged_naive_transcripts.to_csv('Data/machine_learning_input_prep/all_transcripts_with_fasta_clip_m6a_paris_intra_paris_inter_postar3_collapsed.bed', sep='\\t', index=False)"
   ]
  }
 ],
 "metadata": {
  "kernelspec": {
   "display_name": "tf",
   "language": "python",
   "name": "python3"
  },
  "language_info": {
   "codemirror_mode": {
    "name": "ipython",
    "version": 3
   },
   "file_extension": ".py",
   "mimetype": "text/x-python",
   "name": "python",
   "nbconvert_exporter": "python",
   "pygments_lexer": "ipython3",
   "version": "3.9.16"
  }
 },
 "nbformat": 4,
 "nbformat_minor": 2
}
