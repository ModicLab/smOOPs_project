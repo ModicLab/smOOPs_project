{
 "cells": [
  {
   "cell_type": "code",
   "execution_count": 1,
   "metadata": {},
   "outputs": [],
   "source": [
    "import pandas as pd\n",
    "import matplotlib.pyplot as plt\n",
    "plt.rcParams[\"svg.fonttype\"] = \"none\"  # Ensures the text is not converted to paths\n"
   ]
  },
  {
   "cell_type": "code",
   "execution_count": 2,
   "metadata": {},
   "outputs": [],
   "source": [
    "clusters_all = pd.read_csv(\"/ceph/hpc/home/novljanj/data_storage/projects/smOOPS_paper/Results/machine_learning_results/cluster_assignment_file/cluster_of_all_model.tsv\", sep=\"\\t\")\n",
    "clusters_all_set_cluster0 = set(clusters_all[clusters_all[\"Cluster\"] == 0][\"transcript_id\"])\n",
    "clusters_all_set_cluster1 = set(clusters_all[clusters_all[\"Cluster\"] == 1][\"transcript_id\"])"
   ]
  },
  {
   "cell_type": "code",
   "execution_count": 3,
   "metadata": {},
   "outputs": [],
   "source": [
    "clusters_naive = pd.read_csv(\"/ceph/hpc/home/novljanj/data_storage/projects/smOOPS_paper/Results/machine_learning_results/cluster_assignment_file/sequence:global_iclip:paris_intramol:postar3_joined_clusters.tsv\", sep=\"\\t\")\n",
    "clusters_naive_set_cluster0 = set(clusters_naive[clusters_naive[\"Cluster\"] == 0][\"transcript_id\"])\n",
    "clusters_naive_set_cluster1 = set(clusters_naive[clusters_naive[\"Cluster\"] == 1][\"transcript_id\"])\n"
   ]
  },
  {
   "cell_type": "code",
   "execution_count": 4,
   "metadata": {},
   "outputs": [
    {
     "data": {
      "text/html": [
       "<div>\n",
       "<style scoped>\n",
       "    .dataframe tbody tr th:only-of-type {\n",
       "        vertical-align: middle;\n",
       "    }\n",
       "\n",
       "    .dataframe tbody tr th {\n",
       "        vertical-align: top;\n",
       "    }\n",
       "\n",
       "    .dataframe thead th {\n",
       "        text-align: right;\n",
       "    }\n",
       "</style>\n",
       "<table border=\"1\" class=\"dataframe\">\n",
       "  <thead>\n",
       "    <tr style=\"text-align: right;\">\n",
       "      <th></th>\n",
       "      <th>transcript_id</th>\n",
       "      <th>Cluster_all</th>\n",
       "      <th>Cluster_naive</th>\n",
       "    </tr>\n",
       "  </thead>\n",
       "  <tbody>\n",
       "    <tr>\n",
       "      <th>0</th>\n",
       "      <td>ENSMUST00000000312.12</td>\n",
       "      <td>0</td>\n",
       "      <td>0</td>\n",
       "    </tr>\n",
       "    <tr>\n",
       "      <th>1</th>\n",
       "      <td>ENSMUST00000000314.13</td>\n",
       "      <td>0</td>\n",
       "      <td>0</td>\n",
       "    </tr>\n",
       "    <tr>\n",
       "      <th>2</th>\n",
       "      <td>ENSMUST00000002121.5</td>\n",
       "      <td>0</td>\n",
       "      <td>0</td>\n",
       "    </tr>\n",
       "    <tr>\n",
       "      <th>3</th>\n",
       "      <td>ENSMUST00000002320.16</td>\n",
       "      <td>0</td>\n",
       "      <td>0</td>\n",
       "    </tr>\n",
       "    <tr>\n",
       "      <th>4</th>\n",
       "      <td>ENSMUST00000002889.5</td>\n",
       "      <td>0</td>\n",
       "      <td>0</td>\n",
       "    </tr>\n",
       "    <tr>\n",
       "      <th>...</th>\n",
       "      <td>...</td>\n",
       "      <td>...</td>\n",
       "      <td>...</td>\n",
       "    </tr>\n",
       "    <tr>\n",
       "      <th>442</th>\n",
       "      <td>ENSMUST00000236879.2</td>\n",
       "      <td>0</td>\n",
       "      <td>0</td>\n",
       "    </tr>\n",
       "    <tr>\n",
       "      <th>443</th>\n",
       "      <td>ENSMUST00000237947.2</td>\n",
       "      <td>1</td>\n",
       "      <td>1</td>\n",
       "    </tr>\n",
       "    <tr>\n",
       "      <th>444</th>\n",
       "      <td>ENSMUST00000238606.2</td>\n",
       "      <td>0</td>\n",
       "      <td>0</td>\n",
       "    </tr>\n",
       "    <tr>\n",
       "      <th>445</th>\n",
       "      <td>ENSMUST00000238821.2</td>\n",
       "      <td>0</td>\n",
       "      <td>0</td>\n",
       "    </tr>\n",
       "    <tr>\n",
       "      <th>446</th>\n",
       "      <td>ENSMUST00000239552.1</td>\n",
       "      <td>0</td>\n",
       "      <td>0</td>\n",
       "    </tr>\n",
       "  </tbody>\n",
       "</table>\n",
       "<p>447 rows × 3 columns</p>\n",
       "</div>"
      ],
      "text/plain": [
       "             transcript_id  Cluster_all  Cluster_naive\n",
       "0    ENSMUST00000000312.12            0              0\n",
       "1    ENSMUST00000000314.13            0              0\n",
       "2     ENSMUST00000002121.5            0              0\n",
       "3    ENSMUST00000002320.16            0              0\n",
       "4     ENSMUST00000002889.5            0              0\n",
       "..                     ...          ...            ...\n",
       "442   ENSMUST00000236879.2            0              0\n",
       "443   ENSMUST00000237947.2            1              1\n",
       "444   ENSMUST00000238606.2            0              0\n",
       "445   ENSMUST00000238821.2            0              0\n",
       "446   ENSMUST00000239552.1            0              0\n",
       "\n",
       "[447 rows x 3 columns]"
      ]
     },
     "execution_count": 4,
     "metadata": {},
     "output_type": "execute_result"
    }
   ],
   "source": [
    "merged = clusters_all.merge(clusters_naive, on=\"transcript_id\", suffixes=(\"_all\", \"_naive\"))\n",
    "merged"
   ]
  },
  {
   "cell_type": "code",
   "execution_count": 5,
   "metadata": {},
   "outputs": [
    {
     "data": {
      "text/plain": [
       "0.9574944071588367"
      ]
     },
     "execution_count": 5,
     "metadata": {},
     "output_type": "execute_result"
    }
   ],
   "source": [
    "same_cluster = merged[merged[\"Cluster_all\"] == merged[\"Cluster_naive\"]]\n",
    "percentage = len(same_cluster)/len(merged)\n",
    "percentage"
   ]
  },
  {
   "cell_type": "code",
   "execution_count": 18,
   "metadata": {},
   "outputs": [
    {
     "data": {
      "image/png": "[encoded data removed]",
      "text/plain": [
       "<Figure size 500x700 with 1 Axes>"
      ]
     },
     "metadata": {},
     "output_type": "display_data"
    }
   ],
   "source": [
    "distribution = merged.groupby('Cluster_naive')['Cluster_all'].value_counts(normalize=True).unstack().fillna(0) * 100\n",
    "\n",
    "fig, ax = plt.subplots(figsize=(5, 7))\n",
    "distribution.plot(kind='bar', stacked=True, ax=ax, color=['#94CE97', '#E39BC4'])\n",
    "\n",
    "for p in ax.patches:\n",
    "    ax.annotate(str(round(p.get_height(), 1)) + \"%\", (p.get_x() * 1.0, p.get_height() * 1.005))\n",
    "ax.set_ylabel('Percentage')\n",
    "ax.set_title('Distribution of Cluster_all within each Cluster_naive')\n",
    "ax.legend(title='Cluster_all')\n",
    "\n",
    "plt.show()"
   ]
  }
 ],
 "metadata": {
  "kernelspec": {
   "display_name": "tf",
   "language": "python",
   "name": "python3"
  },
  "language_info": {
   "codemirror_mode": {
    "name": "ipython",
    "version": 3
   },
   "file_extension": ".py",
   "mimetype": "text/x-python",
   "name": "python",
   "nbconvert_exporter": "python",
   "pygments_lexer": "ipython3",
   "version": "3.9.16"
  }
 },
 "nbformat": 4,
 "nbformat_minor": 2
}
